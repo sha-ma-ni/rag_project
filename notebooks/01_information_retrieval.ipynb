{
 "cells": [
  {
   "cell_type": "markdown",
   "id": "f425f36f",
   "metadata": {},
   "source": [
    "# Information Retrieval / Suche mit Python\n",
    "\n",
    "### 1) Keyword-basierte Suche · 2) Gewichtete Suche mit Whoosh · 3) Semantische Suche mit Embeddings\n",
    "\n",
    "In dieser Übung lernen Sie verschiedene Möglichkeiten kennen, eine Suche in einem kleinen Beispielkorpus zu implementieren - von einem einfachen keyword-basierten Ansatz über die eine gewichtete Suche mit TF-IDF bis hin zu semantischer Suche mit Embeddings. \n",
    "\n",
    "\n",
    "**Vorbereitung:**\n",
    "1. `venv` aktivieren!\n",
    "2. Benötigte Libraries installieren: `pip install whoosh sentence-transformers numpy`\n",
    "3. Neu installierte Libraries zu `requirements.txt` hinzufügen: `pip freeze > requirements.txt`"
   ]
  },
  {
   "cell_type": "markdown",
   "id": "f83434c8",
   "metadata": {},
   "source": [
    "## Beispielkorpus erzeugen\n",
    "\n",
    "Wir arbeiten mit einer erweiterten Version des FAQ-Korpus aus der Python-Einführung. \n",
    "\n",
    "Um diesen zu erzeugen habe ich den ursprünglichen Korpus mit Hilfe eines LLMs [*augmentiert*](https://www.datacamp.com/tutorial/complete-guide-data-augmentation), d.h. Variationen der Beispieldokumente erzeugt, um die Datenbasis zu erweitern: "
   ]
  },
  {
   "cell_type": "code",
   "execution_count": 16,
   "id": "9a76a702",
   "metadata": {},
   "outputs": [
    {
     "name": "stdout",
     "output_type": "stream",
     "text": [
      "39 documents loaded.\n"
     ]
    }
   ],
   "source": [
    "documents = [\n",
    "    'Wie kann ich mein Passwort Passwort zurücksetzen?',\n",
    "    'Wie ändere ich mein Passwort?',\n",
    "    'Passwort vergessen - wie kann ich es zurücksetzen?',\n",
    "    'Wie kann ich mein Login-Passwort erneuern?',\n",
    "    'Wo finde ich meine Bestellhistorie?',\n",
    "    'Wie kann ich meine bisherigen Bestellungen einsehen?',\n",
    "    'Wo sehe ich meine vergangenen Bestellungen?',\n",
    "    'Wo kann ich meine Bestellungen überprüfen?',\n",
    "    'Bestellhistorie abrufen wie geht das?',\n",
    "    'Wie kann ich meine Lieferadresse ändern?',\n",
    "    'Lieferadresse aktualisieren wie geht das?',\n",
    "    'Wie ändere ich meine Versandadresse?',\n",
    "    'Kann ich meine Adresse nachträglich ändern?',\n",
    "    'Adresse für Lieferung ändern möglich?',\n",
    "    'Wie kontaktiere ich den Kundendienst?',\n",
    "    'Wie erreiche ich den Support?',\n",
    "    'Kundendienst kontaktieren wie?',\n",
    "    'Wo kann ich den Kundenservice erreichen?',\n",
    "    'Wie bekomme ich Hilfe vom Support-Team?',\n",
    "    'Welche Zahlungsmethoden werden akzeptiert?',\n",
    "    'Welche Bezahlmöglichkeiten gibt es?',\n",
    "    'Wie kann ich bezahlen?',\n",
    "    'Akzeptierte Zahlungsmethoden - Übersicht',\n",
    "    'Welche Zahlungsarten stehen zur Verfügung?',\n",
    "    'Wie kann ich meine Bestellung stornieren?',\n",
    "    'Bestellung rückgängig machen wie?',\n",
    "    'Wie annulliere ich eine Bestellung?',\n",
    "    'Kann ich meine Bestellung noch stornieren?',\n",
    "    'Stornierung einer Bestellung Anleitung',\n",
    "    'Wie lange dauert der Versand?',\n",
    "    'Versanddauer - wie lange dauert es?',\n",
    "    'Wann wird meine Bestellung geliefert?',\n",
    "    'Lieferzeitraum - wie lang ist er?',\n",
    "    'Wie schnell kommt meine Bestellung an?',\n",
    "    'Kann ich Artikel nach der Bestellung noch ändern?',\n",
    "    'Kann ich meine Bestellung nachträglich bearbeiten?',\n",
    "    'Artikel in einer bereits getätigten Bestellung ändern - geht das?',\n",
    "    'Bestellung nachträglich ändern - möglich?',\n",
    "    'Kann ich Produkte nach der Bestellung austauschen?'\n",
    "]\n",
    "\n",
    "print(f'{len(documents)} documents loaded.')"
   ]
  },
  {
   "cell_type": "markdown",
   "id": "587700ec",
   "metadata": {},
   "source": [
    "### 1. Einen einfachen **Invertierten Index** erzeugen"
   ]
  },
  {
   "cell_type": "markdown",
   "id": "fe5f498b",
   "metadata": {},
   "source": [
    "Bei dieser Aufgabe geht es darum, die Dokument aus dem Korpus so zu organisieren, dass Sie schnell Dokumente finden können, die ein gesuchtes Wort enthalten.\n",
    "\n",
    "#### 1. Erstellen Sie einen invertierten Index:\n",
    "\n",
    "- Erzeugen Sie ein dictionary, in dem die keys Wörter und die values Listen mit den IDs der Dokumente sind, in denen das jeweilige Wort vorkommt.\n",
    "\n",
    "- Preprocessing-Vorgaben: Schreiben Sie alle Wörter in Kleinbuchstaben und entfernen Sie Satzzeichen. \n",
    "\n",
    "#### 2. Schreiben Sie eine Funktion, um in Ihrem invertierten Index nach einem Wort zu suchen:\n",
    "\n",
    "- Die Funktion soll eine Liste mit allen IDs der Dokumente zurückgeben, die das gesuchte Wort enthalten.\n",
    "\n",
    "- Testen Sie die Funktion, indem Sie jedes passende Dokument und seine ID mit `print()` ausgeben.\n",
    "\n",
    "#### Beispiel-Ausgabe: \n",
    "\n",
    "```\n",
    "[[0, 'Wie kann ich mein Passwort Passwort zurücksetzen?'],\n",
    " [0, 'Wie kann ich mein Passwort Passwort zurücksetzen?'],\n",
    " [1, 'Wie ändere ich mein Passwort?'],\n",
    " [2, 'Passwort vergessen - wie kann ich es zurücksetzen?']]\n",
    "```\n",
    "\n",
    "#### Hinweise:\n",
    "- Nutzen Sie `.split()` für die Tokenisierung.\n",
    "\n",
    "- Nutzen Sie `.lower()`,  `.strip('')` und ggf. `.replace()` für das Preprocessing.\n",
    "\n",
    "- Mit `enumerate(documents)` können Sie sowohl auf das jeweilige Dokument als auch auf den Index zugreifen: \n",
    "\n",
    "- Beachten Sie, dass ein Wort in mehreren Dokumenten vorkommen kann - speichern Sie deshalb pro Wort eine Liste mit Document-IDs."
   ]
  },
  {
   "cell_type": "code",
   "execution_count": 69,
   "id": "d61e72b9",
   "metadata": {},
   "outputs": [
    {
     "name": "stdout",
     "output_type": "stream",
     "text": [
      "['wie', 'kann', 'ich', 'mein', 'passwort', 'passwort', 'zurücksetzen']\n",
      "['wie', 'ändere', 'ich', 'mein', 'passwort']\n",
      "['passwort', 'vergessen', 'wie', 'kann', 'ich', 'es', 'zurücksetzen']\n",
      "['wie', 'kann', 'ich', 'mein', 'login', 'passwort', 'erneuern']\n",
      "['wo', 'finde', 'ich', 'meine', 'bestellhistorie']\n",
      "['wie', 'kann', 'ich', 'meine', 'bisherigen', 'bestellungen', 'einsehen']\n",
      "['wo', 'sehe', 'ich', 'meine', 'vergangenen', 'bestellungen']\n",
      "['wo', 'kann', 'ich', 'meine', 'bestellungen', 'überprüfen']\n",
      "['bestellhistorie', 'abrufen', 'wie', 'geht', 'das']\n",
      "['wie', 'kann', 'ich', 'meine', 'lieferadresse', 'ändern']\n",
      "['lieferadresse', 'aktualisieren', 'wie', 'geht', 'das']\n",
      "['wie', 'ändere', 'ich', 'meine', 'versandadresse']\n",
      "['kann', 'ich', 'meine', 'adresse', 'nachträglich', 'ändern']\n",
      "['adresse', 'für', 'lieferung', 'ändern', 'möglich']\n",
      "['wie', 'kontaktiere', 'ich', 'den', 'kundendienst']\n",
      "['wie', 'erreiche', 'ich', 'den', 'support']\n",
      "['kundendienst', 'kontaktieren', 'wie']\n",
      "['wo', 'kann', 'ich', 'den', 'kundenservice', 'erreichen']\n",
      "['wie', 'bekomme', 'ich', 'hilfe', 'vom', 'support', 'team']\n",
      "['welche', 'zahlungsmethoden', 'werden', 'akzeptiert']\n",
      "['welche', 'bezahlmöglichkeiten', 'gibt', 'es']\n",
      "['wie', 'kann', 'ich', 'bezahlen']\n",
      "['akzeptierte', 'zahlungsmethoden', 'übersicht']\n",
      "['welche', 'zahlungsarten', 'stehen', 'zur', 'verfügung']\n",
      "['wie', 'kann', 'ich', 'meine', 'bestellung', 'stornieren']\n",
      "['bestellung', 'rückgängig', 'machen', 'wie']\n",
      "['wie', 'annulliere', 'ich', 'eine', 'bestellung']\n",
      "['kann', 'ich', 'meine', 'bestellung', 'noch', 'stornieren']\n",
      "['stornierung', 'einer', 'bestellung', 'anleitung']\n",
      "['wie', 'lange', 'dauert', 'der', 'versand']\n",
      "['versanddauer', 'wie', 'lange', 'dauert', 'es']\n",
      "['wann', 'wird', 'meine', 'bestellung', 'geliefert']\n",
      "['lieferzeitraum', 'wie', 'lang', 'ist', 'er']\n",
      "['wie', 'schnell', 'kommt', 'meine', 'bestellung', 'an']\n",
      "['kann', 'ich', 'artikel', 'nach', 'der', 'bestellung', 'noch', 'ändern']\n",
      "['kann', 'ich', 'meine', 'bestellung', 'nachträglich', 'bearbeiten']\n",
      "['artikel', 'in', 'einer', 'bereits', 'getätigten', 'bestellung', 'ändern', 'geht', 'das']\n",
      "['bestellung', 'nachträglich', 'ändern', 'möglich']\n",
      "['kann', 'ich', 'produkte', 'nach', 'der', 'bestellung', 'austauschen']\n"
     ]
    }
   ],
   "source": [
    "# 1. Invertierten Index erzeugen\n",
    "# a) Funktion für Preprocessing\n",
    "def preprocess(text):\n",
    "    # Kleinbuchstaben, Entfernen von Sonderzeichen\n",
    "    text = text.lower().replace(\",\", \" \").replace(\"!\", \" \").replace(\"?\", \" \").replace(\"-\", \" \").strip()\n",
    "\n",
    "    # Tokenisierung\n",
    "    text = text.split()\n",
    "    return text\n",
    "# Testen\n",
    "for satz in documents: \n",
    "    print(preprocess(satz))\n"
   ]
  },
  {
   "cell_type": "code",
   "execution_count": 71,
   "id": "2b30661e",
   "metadata": {},
   "outputs": [
    {
     "name": "stdout",
     "output_type": "stream",
     "text": [
      "'wie': [0, 1, 2, 3, 5, 8, 9, 10, 11, 14, 15, 16, 18, 21, 24, 25, 26, 29, 30, 32, 33]\n",
      "'kann': [0, 2, 3, 5, 7, 9, 12, 17, 21, 24, 27, 34, 35, 38]\n",
      "'ich': [0, 1, 2, 3, 4, 5, 6, 7, 9, 11, 12, 14, 15, 17, 18, 21, 24, 26, 27, 34, 35, 38]\n",
      "'mein': [0, 1, 3]\n",
      "'passwort': [0, 0, 1, 2, 3]\n",
      "'zurücksetzen': [0, 2]\n",
      "'ändere': [1, 11]\n",
      "'vergessen': [2]\n",
      "'es': [2, 20, 30]\n",
      "'login': [3]\n",
      "'erneuern': [3]\n",
      "'wo': [4, 6, 7, 17]\n",
      "'finde': [4]\n",
      "'meine': [4, 5, 6, 7, 9, 11, 12, 24, 27, 31, 33, 35]\n",
      "'bestellhistorie': [4, 8]\n",
      "'bisherigen': [5]\n",
      "'bestellungen': [5, 6, 7]\n",
      "'einsehen': [5]\n",
      "'sehe': [6]\n",
      "'vergangenen': [6]\n",
      "'überprüfen': [7]\n",
      "'abrufen': [8]\n",
      "'geht': [8, 10, 36]\n",
      "'das': [8, 10, 36]\n",
      "'lieferadresse': [9, 10]\n",
      "'ändern': [9, 12, 13, 34, 36, 37]\n",
      "'aktualisieren': [10]\n",
      "'versandadresse': [11]\n",
      "'adresse': [12, 13]\n",
      "'nachträglich': [12, 35, 37]\n",
      "'für': [13]\n",
      "'lieferung': [13]\n",
      "'möglich': [13, 37]\n",
      "'kontaktiere': [14]\n",
      "'den': [14, 15, 17]\n",
      "'kundendienst': [14, 16]\n",
      "'erreiche': [15]\n",
      "'support': [15, 18]\n",
      "'kontaktieren': [16]\n",
      "'kundenservice': [17]\n",
      "'erreichen': [17]\n",
      "'bekomme': [18]\n",
      "'hilfe': [18]\n",
      "'vom': [18]\n",
      "'team': [18]\n",
      "'welche': [19, 20, 23]\n",
      "'zahlungsmethoden': [19, 22]\n",
      "'werden': [19]\n",
      "'akzeptiert': [19]\n",
      "'bezahlmöglichkeiten': [20]\n",
      "'gibt': [20]\n",
      "'bezahlen': [21]\n",
      "'akzeptierte': [22]\n",
      "'übersicht': [22]\n",
      "'zahlungsarten': [23]\n",
      "'stehen': [23]\n",
      "'zur': [23]\n",
      "'verfügung': [23]\n",
      "'bestellung': [24, 25, 26, 27, 28, 31, 33, 34, 35, 36, 37, 38]\n",
      "'stornieren': [24, 27]\n",
      "'rückgängig': [25]\n",
      "'machen': [25]\n",
      "'annulliere': [26]\n",
      "'eine': [26]\n",
      "'noch': [27, 34]\n",
      "'stornierung': [28]\n",
      "'einer': [28, 36]\n",
      "'anleitung': [28]\n",
      "'lange': [29, 30]\n",
      "'dauert': [29, 30]\n",
      "'der': [29, 34, 38]\n",
      "'versand': [29]\n",
      "'versanddauer': [30]\n",
      "'wann': [31]\n",
      "'wird': [31]\n",
      "'geliefert': [31]\n",
      "'lieferzeitraum': [32]\n",
      "'lang': [32]\n",
      "'ist': [32]\n",
      "'er': [32]\n",
      "'schnell': [33]\n",
      "'kommt': [33]\n",
      "'an': [33]\n",
      "'artikel': [34, 36]\n",
      "'nach': [34, 38]\n",
      "'bearbeiten': [35]\n",
      "'in': [36]\n",
      "'bereits': [36]\n",
      "'getätigten': [36]\n",
      "'produkte': [38]\n",
      "'austauschen': [38]\n"
     ]
    }
   ],
   "source": [
    "# b) Invertierten Index bauen\n",
    "#ein leeres Dictionary für den invertierten Index initialisieren\n",
    "inverted_index = {}\n",
    "doc_id = 0\n",
    "# Dokumente durchlaufen und den Index füllen\n",
    "for doc_id, text in enumerate(documents): # doc_id wird durch enumerate automatisch erhöht\n",
    "    # Preprocessing\n",
    "    words = preprocess(text)\n",
    "    # Wörter zum Index hinzufügen\n",
    "    for word in words:\n",
    "        # Wenn das Wort noch nicht im Index ist, füge es hinzu\n",
    "        if word not in inverted_index:\n",
    "            inverted_index[word] = []\n",
    "            # Füge die Dokument-ID zur Liste der Dokumente für dieses Wort hinzu\n",
    "        inverted_index[word].append(doc_id)\n",
    "\n",
    "# Testen\n",
    "for word, doc_ids in inverted_index.items():\n",
    "    print(f\"'{word}': {doc_ids}\")"
   ]
  },
  {
   "cell_type": "code",
   "execution_count": 72,
   "id": "da59fdc3",
   "metadata": {},
   "outputs": [],
   "source": [
    "# 2. Such-Funktion\n",
    "def search (query):\n",
    "    # Preprocessing der Suchanfrage\n",
    "    query_words = preprocess(query)\n",
    "    # Gefundene Dokumente initialisieren\n",
    "    found_docs = set()\n",
    "    for word in query_words:\n",
    "        if word in inverted_index:\n",
    "            # Dokument-IDs zum Ergebnis hinzufügen\n",
    "            found_docs.update(inverted_index[word])\n",
    "    return list(found_docs)"
   ]
  },
  {
   "cell_type": "code",
   "execution_count": 73,
   "id": "3eefec46",
   "metadata": {},
   "outputs": [
    {
     "name": "stdout",
     "output_type": "stream",
     "text": [
      "Suchergebnisse: [0, 1, 2, 3]\n"
     ]
    }
   ],
   "source": [
    "# Testen\n",
    "search_results = search(\"Passwort zurücksetzen\")\n",
    "print(f\"Suchergebnisse: {search_results}\")"
   ]
  },
  {
   "cell_type": "code",
   "execution_count": 74,
   "id": "56695fa2",
   "metadata": {},
   "outputs": [],
   "source": [
    "# Bonus: Verbesserte Suche mit Ranking : Die Ergebnisse werden nach Trefferanzahl sortiert\n",
    "def ranking_search(query):\n",
    "    # Preprocessing der Suchanfrage\n",
    "    query_words = preprocess(query)\n",
    "    # Trefferzähler initialisieren\n",
    "    doc_scores = {}\n",
    "    for word in query_words:\n",
    "        if word in inverted_index:\n",
    "            for doc_id in inverted_index[word]:\n",
    "                if doc_id not in doc_scores:\n",
    "                    doc_scores[doc_id] = 0\n",
    "                doc_scores[doc_id] += 1\n",
    "    # Dokumente nach Trefferanzahl sortieren\n",
    "    ranked_docs = sorted(doc_scores.items(), key=lambda item: item[1], reverse=True)\n",
    "    return [doc_id for doc_id, score in ranked_docs]"
   ]
  },
  {
   "cell_type": "code",
   "execution_count": null,
   "id": "c30509ac",
   "metadata": {},
   "outputs": [],
   "source": [
    "def rank_search(query):\n",
    "    query_words = preprocess(query)\n",
    "    # Score-Dictionary: Schlüssel = Dokument-ID, Wert = Trefferanzahl\n",
    "    scores = {}\n",
    "    for word in query_words:\n",
    "        if word in inverted_index:\n",
    "            for doc_id in inverted_index[word]:\n",
    "                if doc_id not in scores:\n",
    "                    scores[doc_id] = 0\n",
    "                scores[doc_id] += 1\n",
    "    # Dokumente nach Score sortieren\n",
    "    ranked_results = sorted(scores.items(), key=lambda item: item[1], reverse=True)\n",
    "    return ranked_results # Gibt Liste von (doc_id, score) zurück"
   ]
  },
  {
   "cell_type": "code",
   "execution_count": 83,
   "id": "8cdc6610",
   "metadata": {},
   "outputs": [
    {
     "name": "stdout",
     "output_type": "stream",
     "text": [
      "Suchergebnisse mit Ranking: [0, 2, 1, 3]\n",
      "[Score: 3] Wie kann ich mein Passwort Passwort zurücksetzen?\n",
      "[Score: 2] Passwort vergessen - wie kann ich es zurücksetzen?\n",
      "[Score: 1] Wie ändere ich mein Passwort?\n",
      "[Score: 1] Wie kann ich mein Login-Passwort erneuern?\n"
     ]
    }
   ],
   "source": [
    "# Testen\n",
    "search_results = ranking_search(\"Passwort zurücksetzen\")\n",
    "print(f\"Suchergebnisse mit Ranking: {search_results}\")\n",
    "\n",
    "\n",
    "\n",
    "results = rank_search(\"Passwort zurücksetzen\")\n",
    "\n",
    "for doc_id, score in results:\n",
    "    print(f\"[Score: {score}] {documents[doc_id]}\")"
   ]
  },
  {
   "cell_type": "markdown",
   "id": "7412da79",
   "metadata": {},
   "source": [
    "## 2. **Gewichtete Suche** mit Whoosh\n",
    "\n",
    "Bei dieser Aufgabe lernen Sie die IR-Library `Whoosh` kennen. \n",
    "\n",
    "Wir bauen mit `Whoosh` einen Index, fügen Dokumente hinzu und führen dann eine Suche aus. \n",
    "\n",
    "`Whoosh` ermöglicht es uns, eine gewichtete Suche zu machen, z.B. mit `TF-IDF` oder `BM25`."
   ]
  },
  {
   "cell_type": "code",
   "execution_count": null,
   "id": "69cb939d",
   "metadata": {},
   "outputs": [],
   "source": [
    "from whoosh.index import create_in\n",
    "from whoosh.fields import Schema, TEXT, ID\n",
    "from whoosh.qparser import QueryParser\n",
    "from whoosh import scoring  # for choosing the ranking algorithm\n",
    "import os, shutil\n",
    "\n",
    "# Schema für den Index definieren\n",
    "schema = Schema(\n",
    "    id=ID(stored=True),       # Dokument-ID\n",
    "    content=TEXT(stored=True)  # Dokument-Text\n",
    ")\n",
    "\n",
    "# Verzeichnis für den Index vorbereiten\n",
    "if os.path.exists('indexdir'):\n",
    "    shutil.rmtree('indexdir')\n",
    "os.mkdir('indexdir')\n",
    "\n",
    "# Index erzeugen und Dokumente hinzufügen\n",
    "ix = create_in('indexdir', schema)\n",
    "writer = ix.writer()"
   ]
  },
  {
   "cell_type": "markdown",
   "id": "7f15ab3c",
   "metadata": {},
   "source": [
    "**2.1 Aufgabe:** Vervollständigen Sie den folgenden Code, indem Sie die `???` ersetzen. "
   ]
  },
  {
   "cell_type": "code",
   "execution_count": null,
   "id": "66138703",
   "metadata": {},
   "outputs": [],
   "source": [
    "for i, doc in enumerate(documents):\n",
    "    writer.add_document(id=str('???'), content='???') \n",
    "writer.commit()"
   ]
  },
  {
   "cell_type": "markdown",
   "id": "1ab7f787",
   "metadata": {},
   "source": [
    "**2.2.** Aufgabe: \n",
    "\n",
    "- Testen Sie die folgende Suchfunktion mit verschiedenen Queries. \n",
    "- Verändern Sie das Limit der angezeigten Suchergebnisse. \n",
    "- Bei Bedarf können Sie auch den Beispielkorpus `documents` verändern. \n"
   ]
  },
  {
   "cell_type": "code",
   "execution_count": null,
   "id": "b68d28ad",
   "metadata": {},
   "outputs": [
    {
     "name": "stdout",
     "output_type": "stream",
     "text": [
      "TF-IDF Ranking:\n"
     ]
    }
   ],
   "source": [
    "# Durchsuchen des Index mit TF-IDF Gewichtung -> seltene Wörter haben mehr Gewicht\n",
    "query = 'wie lange' \n",
    "\n",
    "with ix.searcher(weighting=scoring.TF_IDF()) as searcher:  \n",
    "    query_str = query\n",
    "    parser = QueryParser('content', ix.schema)\n",
    "    query = parser.parse(query_str)\n",
    "\n",
    "    # Index durchsuchen, top n Treffer anzeigen\n",
    "    top_n = 5\n",
    "    results = searcher.search(query, limit=top_n)\n",
    "\n",
    "    print(\"TF-IDF Ranking:\")\n",
    "    for hit in results:\n",
    "        print(f\"Score: {hit.score:.3f} | Doc {hit['id']}: {hit['content']}\")\n"
   ]
  },
  {
   "cell_type": "markdown",
   "id": "27c65521",
   "metadata": {},
   "source": [
    "**Aufgabe 2.3:** \n",
    "\n",
    "- Passen Sie den Code so an, dass `BM25F` für die Gewichtung verwendet wird.\n",
    "- Probieren Sie die Suche erneut aus und schauen Sie, ob sich etwas verändert. \n",
    "- Passen Sie auch hier ggf. den Beispielkorpus an, z.B. indem Sie längere Dokumente hinzufügen. "
   ]
  },
  {
   "cell_type": "code",
   "execution_count": null,
   "id": "475213c8",
   "metadata": {},
   "outputs": [],
   "source": [
    "# Lösung: "
   ]
  },
  {
   "cell_type": "markdown",
   "id": "7b26ae55",
   "metadata": {},
   "source": [
    "**Aufgabe 2.4:**\n",
    "\n",
    "- Vergleichen Sie die Suchergebnisse der manuellen Suche mit den Ergebnissen der gewichteten Suche. \n",
    "- Gibt es Unterschiede zwischen den Ergebnissen basierend auf TF-IDF vs. BM25F?"
   ]
  },
  {
   "cell_type": "markdown",
   "id": "018e979c",
   "metadata": {},
   "source": [
    "## 3. **Semantische Suche** mit Sentence Transformers\n",
    "\n",
    "- In dieser Demo nutzen Sie die `Sentence Transformers` Library, um Embeddings für den Beispielkorpus zu erzeugen. \n",
    "- Diese Embeddings nutzen Sie, um semantisch ähnliche Dokumente zu Ihrer Suche zu finden, mit Hilfe der Kosinus-Ähnlichkeit. "
   ]
  },
  {
   "cell_type": "code",
   "execution_count": null,
   "id": "497fc8e4",
   "metadata": {},
   "outputs": [
    {
     "data": {
      "application/vnd.jupyter.widget-view+json": {
       "model_id": "83985a7f0e6d439ab19f166df685e4d5",
       "version_major": 2,
       "version_minor": 0
      },
      "text/plain": [
       "modules.json:   0%|          | 0.00/349 [00:00<?, ?B/s]"
      ]
     },
     "metadata": {},
     "output_type": "display_data"
    },
    {
     "name": "stderr",
     "output_type": "stream",
     "text": [
      "c:\\Users\\lsfed\\Documents\\HTW\\LLM (KI)\\rag_project\\venv\\Lib\\site-packages\\huggingface_hub\\file_download.py:143: UserWarning: `huggingface_hub` cache-system uses symlinks by default to efficiently store duplicated files but your machine does not support them in C:\\Users\\lsfed\\.cache\\huggingface\\hub\\models--sentence-transformers--all-MiniLM-L6-v2. Caching files will still work but in a degraded version that might require more space on your disk. This warning can be disabled by setting the `HF_HUB_DISABLE_SYMLINKS_WARNING` environment variable. For more details, see https://huggingface.co/docs/huggingface_hub/how-to-cache#limitations.\n",
      "To support symlinks on Windows, you either need to activate Developer Mode or to run Python as an administrator. In order to activate developer mode, see this article: https://docs.microsoft.com/en-us/windows/apps/get-started/enable-your-device-for-development\n",
      "  warnings.warn(message)\n"
     ]
    },
    {
     "data": {
      "application/vnd.jupyter.widget-view+json": {
       "model_id": "fe0924c8ace641ec83967c70115b8543",
       "version_major": 2,
       "version_minor": 0
      },
      "text/plain": [
       "config_sentence_transformers.json:   0%|          | 0.00/116 [00:00<?, ?B/s]"
      ]
     },
     "metadata": {},
     "output_type": "display_data"
    },
    {
     "data": {
      "application/vnd.jupyter.widget-view+json": {
       "model_id": "08f7610a340b4fed93d0550b422ebbc4",
       "version_major": 2,
       "version_minor": 0
      },
      "text/plain": [
       "README.md: 0.00B [00:00, ?B/s]"
      ]
     },
     "metadata": {},
     "output_type": "display_data"
    },
    {
     "data": {
      "application/vnd.jupyter.widget-view+json": {
       "model_id": "717d5d14da654ae3b50b6ca98f9a4726",
       "version_major": 2,
       "version_minor": 0
      },
      "text/plain": [
       "sentence_bert_config.json:   0%|          | 0.00/53.0 [00:00<?, ?B/s]"
      ]
     },
     "metadata": {},
     "output_type": "display_data"
    },
    {
     "data": {
      "application/vnd.jupyter.widget-view+json": {
       "model_id": "ddd1a02b04104e7982835a54c99ad063",
       "version_major": 2,
       "version_minor": 0
      },
      "text/plain": [
       "config.json:   0%|          | 0.00/612 [00:00<?, ?B/s]"
      ]
     },
     "metadata": {},
     "output_type": "display_data"
    },
    {
     "name": "stderr",
     "output_type": "stream",
     "text": [
      "Xet Storage is enabled for this repo, but the 'hf_xet' package is not installed. Falling back to regular HTTP download. For better performance, install the package with: `pip install huggingface_hub[hf_xet]` or `pip install hf_xet`\n"
     ]
    },
    {
     "data": {
      "application/vnd.jupyter.widget-view+json": {
       "model_id": "2774f502cac04ff2836a9581ccc46b40",
       "version_major": 2,
       "version_minor": 0
      },
      "text/plain": [
       "model.safetensors:   0%|          | 0.00/90.9M [00:00<?, ?B/s]"
      ]
     },
     "metadata": {},
     "output_type": "display_data"
    },
    {
     "data": {
      "application/vnd.jupyter.widget-view+json": {
       "model_id": "27c3f583adc3465c94c833e69ba77c47",
       "version_major": 2,
       "version_minor": 0
      },
      "text/plain": [
       "tokenizer_config.json:   0%|          | 0.00/350 [00:00<?, ?B/s]"
      ]
     },
     "metadata": {},
     "output_type": "display_data"
    },
    {
     "data": {
      "application/vnd.jupyter.widget-view+json": {
       "model_id": "45aa965464c64a9dbfb7b0aa7f9fca83",
       "version_major": 2,
       "version_minor": 0
      },
      "text/plain": [
       "vocab.txt: 0.00B [00:00, ?B/s]"
      ]
     },
     "metadata": {},
     "output_type": "display_data"
    },
    {
     "data": {
      "application/vnd.jupyter.widget-view+json": {
       "model_id": "ef5cda859efb4e91a8c9b2305abb189a",
       "version_major": 2,
       "version_minor": 0
      },
      "text/plain": [
       "tokenizer.json: 0.00B [00:00, ?B/s]"
      ]
     },
     "metadata": {},
     "output_type": "display_data"
    },
    {
     "data": {
      "application/vnd.jupyter.widget-view+json": {
       "model_id": "fa45338ec1e540f5ab9d19d714b77476",
       "version_major": 2,
       "version_minor": 0
      },
      "text/plain": [
       "special_tokens_map.json:   0%|          | 0.00/112 [00:00<?, ?B/s]"
      ]
     },
     "metadata": {},
     "output_type": "display_data"
    },
    {
     "data": {
      "application/vnd.jupyter.widget-view+json": {
       "model_id": "304a78c60d70491aaddb62f2f8192fcf",
       "version_major": 2,
       "version_minor": 0
      },
      "text/plain": [
       "config.json:   0%|          | 0.00/190 [00:00<?, ?B/s]"
      ]
     },
     "metadata": {},
     "output_type": "display_data"
    }
   ],
   "source": [
    "from sentence_transformers import SentenceTransformer, util\n",
    "\n",
    "# Laden eines vortrainierten Modells\n",
    "model = SentenceTransformer('all-MiniLM-L6-v2')\n",
    "\n",
    "# Embeddings für die Dokumente erzeugen\n",
    "doc_embeddings = model.encode(documents, convert_to_tensor=True)"
   ]
  },
  {
   "cell_type": "code",
   "execution_count": null,
   "id": "ed48a64b",
   "metadata": {},
   "outputs": [],
   "source": [
    "# Funktion für semantische Suche, basierend auf Kosinus-Ähnlichkeit\n",
    "def semantic_search(query, top_k=3):\n",
    "    \"\"\"\n",
    "    Performs semantic search using sentence-transformers built-in cosine similarity.\n",
    "    \n",
    "    Returns top_k documents and their similarity scores.\n",
    "    \"\"\"\n",
    "    # Embedding für die Query erzeugen\n",
    "    query_emb = model.encode(query, convert_to_tensor=True)\n",
    "    \n",
    "    # Kosinus-Ähnlichkeit zwischen Query und allen Dokumenten berechnen\n",
    "    cosine_scores = util.cos_sim(query_emb, doc_embeddings)  # shape: (1, num_docs)\n",
    "    \n",
    "    # Ranking der Dokumente, nach höchstem Ähnlichkeits-Score; begrenzt durch Parameter top_k\n",
    "    ranked_indices = cosine_scores[0].argsort(descending=True)[:top_k]\n",
    "    \n",
    "    # Rückgabe der ähnlichsten Dokumente\n",
    "    return [(int(idx), float(cosine_scores[0][idx])) for idx in ranked_indices]"
   ]
  },
  {
   "cell_type": "code",
   "execution_count": null,
   "id": "584ca0d6",
   "metadata": {},
   "outputs": [
    {
     "name": "stdout",
     "output_type": "stream",
     "text": [
      "\n",
      "Query: bestellung\n",
      "  Score: 0.737 | Doc 33: Wie schnell kommt meine Bestellung an?\n",
      "  Score: 0.663 | Doc 25: Bestellung rückgängig machen wie?\n",
      "  Score: 0.650 | Doc 31: Wann wird meine Bestellung geliefert?\n",
      "\n",
      "Query: rückgabe\n",
      "  Score: 0.413 | Doc 25: Bestellung rückgängig machen wie?\n",
      "  Score: 0.257 | Doc 22: Akzeptierte Zahlungsmethoden - Übersicht\n",
      "  Score: 0.255 | Doc 17: Wo kann ich den Kundenservice erreichen?\n",
      "\n",
      "Query: versand\n",
      "  Score: 0.472 | Doc 30: Versanddauer - wie lange dauert es?\n",
      "  Score: 0.463 | Doc 11: Wie ändere ich meine Versandadresse?\n",
      "  Score: 0.456 | Doc 29: Wie lange dauert der Versand?\n"
     ]
    }
   ],
   "source": [
    "# Testen\n",
    "queries = ['bestellung', 'rückgabe', 'versand']\n",
    "\n",
    "for q in queries:\n",
    "    print(f'\\nQuery: {q}')\n",
    "    for idx, score in semantic_search(q):\n",
    "        print(f'  Score: {score:.3f} | Doc {idx}: {documents[idx]}')"
   ]
  },
  {
   "cell_type": "markdown",
   "id": "d81c990b",
   "metadata": {},
   "source": [
    "## 4. Hausaufgabe: Ein vortrainiertes **Modell für deutschsprachige Dokumente** finden"
   ]
  },
  {
   "cell_type": "markdown",
   "id": "2d5bcf64",
   "metadata": {},
   "source": [
    "Ihre Aufgabe ist es, ein vortrainiertes Modell zu finden, das sich für die semantische Suche auf Deutsch eignet. \n",
    "\n",
    "\n",
    "Hierfür haben Sie zwei Möglichkeiten: \n",
    "\n",
    "**Multilinguale Modelle:** Viele Modelle sind multilingual, z. B. distiluse-base-multilingual-cased-v2, welches Deutsch unterstützt. Multilinguale Modelle sind flexibel für viele Sprachen, eventuell mit leicht geringerer Genauigkeit für Deutsch.\n",
    "\n",
    "**Deutsch-spezifische Modelle:** Einige Modelle wurden speziell auf deutsche Texte feinjustiert. Deutsch-spezifische Modelle bieten oft eine höhere Genauigkeit für deutsche Texte, eignen sich aber nicht für andere Sprachen.\n",
    "\n",
    "### Schritt 1: Hugging Face Modelle durchsuchen\n",
    "\n",
    "- Besuchen Sie: https://huggingface.co/models\n",
    "\n",
    "- Verwenden Sie die Suchleiste mit Keywords wie z.B.:\n",
    "\n",
    "„german sentence-transformer“\n",
    "\n",
    "„multilingual sentence embeddings“\n",
    "- Alternativ können Sie auch den Filter der Suchfunktion verwenden, um auf die Library `sentence-transformers` und deutsche Sprache zu fokussieren. \n",
    "\n",
    "- Wählen Sie ein Modell aus. \n",
    "\n",
    "- Prüfen Sie die Beschreibung und stellen Sie sicher, dass Deutsch (`de`) unterstützt wird.\n",
    "\n",
    "\n",
    "### Schritt 2: Modell anwenden\n",
    "\n",
    "- Passen Sie den obigen Code so an, dass das von Ihnen ausgewählte Modell verwendet wird. \n",
    "\n",
    "- Probieren Sie einige Suchanfragen erneut aus. \n",
    "\n",
    "- Vergleichen Sie das Ergebnis mit der vorherigen Suche. "
   ]
  }
 ],
 "metadata": {
  "kernelspec": {
   "display_name": "venv (3.13.8)",
   "language": "python",
   "name": "python3"
  },
  "language_info": {
   "codemirror_mode": {
    "name": "ipython",
    "version": 3
   },
   "file_extension": ".py",
   "mimetype": "text/x-python",
   "name": "python",
   "nbconvert_exporter": "python",
   "pygments_lexer": "ipython3",
   "version": "3.13.9"
  }
 },
 "nbformat": 4,
 "nbformat_minor": 5
}
