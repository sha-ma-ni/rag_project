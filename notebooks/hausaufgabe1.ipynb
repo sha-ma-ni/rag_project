{
 "cells": [
  {
   "cell_type": "code",
   "execution_count": 1,
   "id": "c2528a7b-00a8-4506-9e8a-e106c1220727",
   "metadata": {},
   "outputs": [
    {
     "name": "stdout",
     "output_type": "stream",
     "text": [
      "Hello world, I am coding in Python!\n",
      "1: Ada Lovelace is considered the first computer programmer for her work on Charles Babbage's Analytical Engine.\n",
      "2: Grace Hopper was a pioneer in computer programming and developed the first compiler for a computer programming language.\n",
      "3: Katherine Johnson was a mathematician whose calculations of orbital mechanics were critical to the success of NASA's space missions.\n",
      "4: Radia Perlman is known as the 'Mother of the Internet' for her invention of the spanning-tree protocol (STP) that made modern Ethernet networks possible.\n",
      "5: Barbara Liskov is a computer scientist recognized for her work in programming languages and system design, including the Liskov Substitution Principle.\n"
     ]
    }
   ],
   "source": [
    "# Hello world\n",
    "print(\"Hello world, I am coding in Python!\")\n",
    "\n",
    "# Working with a list of text entries\n",
    "knowledge_base = [\n",
    "    {\"id\": 1, \"text\": \"Ada Lovelace is considered the first computer programmer for her work on Charles Babbage's Analytical Engine.\"},\n",
    "    {\"id\": 2, \"text\": \"Grace Hopper was a pioneer in computer programming and developed the first compiler for a computer programming language.\"},\n",
    "    {\"id\": 3, \"text\": \"Katherine Johnson was a mathematician whose calculations of orbital mechanics were critical to the success of NASA's space missions.\"},\n",
    "    {\"id\": 4, \"text\": \"Radia Perlman is known as the 'Mother of the Internet' for her invention of the spanning-tree protocol (STP) that made modern Ethernet networks possible.\"},\n",
    "    {\"id\": 5, \"text\": \"Barbara Liskov is a computer scientist recognized for her work in programming languages and system design, including the Liskov Substitution Principle.\"}\n",
    "]\n",
    "\n",
    "# Print all entries\n",
    "for entry in knowledge_base:\n",
    "    print(f\"{entry['id']}: {entry['text']}\")\n"
   ]
  },
  {
   "cell_type": "code",
   "execution_count": 3,
   "id": "4db43403-aa32-4de4-b247-6a4fa9d04ed4",
   "metadata": {},
   "outputs": [
    {
     "data": {
      "text/plain": [
       "(int, str)"
      ]
     },
     "execution_count": 3,
     "metadata": {},
     "output_type": "execute_result"
    }
   ],
   "source": [
    "x = 4\n",
    "s = \"Was ist der Sinn des Lebens?\"\n",
    "type (x), type (s)\n"
   ]
  }
 ],
 "metadata": {
  "kernelspec": {
   "display_name": "venv (3.13.8)",
   "language": "python",
   "name": "python3"
  },
  "language_info": {
   "codemirror_mode": {
    "name": "ipython",
    "version": 3
   },
   "file_extension": ".py",
   "mimetype": "text/x-python",
   "name": "python",
   "nbconvert_exporter": "python",
   "pygments_lexer": "ipython3",
   "version": "3.13.8"
  }
 },
 "nbformat": 4,
 "nbformat_minor": 5
}
